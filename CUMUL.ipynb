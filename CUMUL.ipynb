{
 "cells": [
  {
   "attachments": {},
   "cell_type": "markdown",
   "metadata": {},
   "source": [
    "# CUMUL\n",
    "\n",
    "This notebook is an attempt to recreate teh CUMUL solution for WFA proposed by XXXX in 2017?\n",
    "\n",
    "The code was not provided, so this is an approximation based on the description in the paper."
   ]
  },
  {
   "attachments": {},
   "cell_type": "markdown",
   "metadata": {},
   "source": [
    "# Pack order based encoder"
   ]
  },
  {
   "cell_type": "code",
   "execution_count": null,
   "metadata": {},
   "outputs": [],
   "source": [
    "import numpy as np\n",
    "from scapy.all import *\n",
    "\n",
    "def is_inbound(packet):\n",
    "    # Implement the function to check if the packet is inbound or not\n",
    "    pass\n",
    "\n",
    "def analyze_pcap(pcap_path):\n",
    "    packets = rdpcap(pcap_path)\n",
    "    num_samples = 100\n",
    "    total_packets = len(packets)\n",
    "    interval = total_packets / num_samples\n",
    "\n",
    "    running_total = 0\n",
    "    sampled_totals = []\n",
    "\n",
    "    for i, packet in enumerate(packets):\n",
    "        if is_inbound(packet):\n",
    "            running_total += len(packet)\n",
    "        else:\n",
    "            running_total -= len(packet)\n",
    "\n",
    "        if i % interval == 0:\n",
    "            sampled_totals.append(running_total)\n",
    "\n",
    "    # Convert the list of sampled totals to a NumPy array\n",
    "    sampled_totals_array = np.array(sampled_totals)\n",
    "\n",
    "    return sampled_totals_array\n",
    "\n",
    "# Usage example\n",
    "pcap_path = \"path/to/your/pcap/file.pcap\"\n",
    "result_array = analyze_pcap(pcap_path)\n",
    "print(result_array)\n"
   ]
  },
  {
   "attachments": {},
   "cell_type": "markdown",
   "metadata": {},
   "source": [
    "# Time based encoder"
   ]
  },
  {
   "cell_type": "code",
   "execution_count": null,
   "metadata": {},
   "outputs": [],
   "source": [
    "import numpy as np\n",
    "from scapy.all import *\n",
    "\n",
    "def is_inbound(packet):\n",
    "    # Implement the function to check if the packet is inbound or not\n",
    "    pass\n",
    "\n",
    "def analyze_pcap(pcap_path):\n",
    "    packets = rdpcap(pcap_path)\n",
    "    num_samples = 100\n",
    "    pcap_duration = 20  # 20 seconds\n",
    "    interval = pcap_duration / num_samples\n",
    "\n",
    "    running_total = 0\n",
    "    sampled_totals = []\n",
    "    current_sample_time = 0\n",
    "\n",
    "    for packet in packets:\n",
    "        if is_inbound(packet):\n",
    "            running_total += len(packet)\n",
    "        else:\n",
    "            running_total -= len(packet)\n",
    "\n",
    "        packet_time = packet.time\n",
    "        if packet_time >= current_sample_time:\n",
    "            sampled_totals.append(running_total)\n",
    "            current_sample_time += interval\n",
    "\n",
    "            if len(sampled_totals) == num_samples:\n",
    "                break\n",
    "\n",
    "    # Convert the list of sampled totals to a NumPy array\n",
    "    sampled_totals_array = np.array(sampled_totals)\n",
    "\n",
    "    return sampled_totals_array\n",
    "\n",
    "# Usage example\n",
    "pcap_path = \"path/to/your/pcap/file.pcap\"\n",
    "result_array = analyze_pcap(pcap_path)\n",
    "print(result_array)\n"
   ]
  },
  {
   "attachments": {},
   "cell_type": "markdown",
   "metadata": {},
   "source": [
    "# Visualiser  "
   ]
  },
  {
   "cell_type": "code",
   "execution_count": null,
   "metadata": {},
   "outputs": [],
   "source": [
    "import matplotlib.pyplot as plt\n",
    "\n",
    "def plot_encoded_array(encoded_array):\n",
    "    # Create the x axis values (sample numbers)\n",
    "    x = range(len(encoded_array))\n",
    "\n",
    "    # Create a line plot with the x and y values\n",
    "    plt.plot(x, encoded_array)\n",
    "\n",
    "    # Set the x and y axis labels\n",
    "    plt.xlabel('Sample Number')\n",
    "    plt.ylabel('Cumulative Size')\n",
    "\n",
    "    # Add a title for the plot\n",
    "    plt.title('Cumulative Size at Sample Points')\n",
    "\n",
    "    # Display the plot\n",
    "    plt.show()\n",
    "\n",
    "# Usage example\n",
    "# Assuming the encoded_array variable has already been generated\n",
    "plot_encoded_array(encoded_array)\n"
   ]
  },
  {
   "attachments": {},
   "cell_type": "markdown",
   "metadata": {},
   "source": [
    "# ML Models"
   ]
  },
  {
   "cell_type": "code",
   "execution_count": null,
   "metadata": {},
   "outputs": [],
   "source": [
    "import numpy as np\n",
    "from sklearn.preprocessing import StandardScaler\n",
    "from sklearn.model_selection import train_test_split\n",
    "from sklearn.neighbors import KNeighborsClassifier\n",
    "from sklearn.svm import SVC\n",
    "from sklearn.metrics import classification_report, confusion_matrix\n",
    "\n",
    "# Assuming the features and labels arrays have already been generated\n",
    "features = np.array(...)  # The concatenated large array of shape (x, 100)\n",
    "labels = np.array(...)    # The corresponding array of shape (x,)\n",
    "\n",
    "# Split the data into training and testing sets\n",
    "X_train, X_test, y_train, y_test = train_test_split(features, labels, test_size=0.2, random_state=42)\n",
    "\n",
    "# Standardize the features\n",
    "scaler = StandardScaler()\n",
    "X_train = scaler.fit_transform(X_train)\n",
    "X_test = scaler.transform(X_test)\n",
    "\n",
    "# Train and evaluate the K-NN model\n",
    "knn = KNeighborsClassifier(n_neighbors=3)\n",
    "knn.fit(X_train, y_train)\n",
    "y_pred_knn = knn.predict(X_test)\n",
    "\n",
    "print(\"K-NN Model:\")\n",
    "print(confusion_matrix(y_test, y_pred_knn))\n",
    "print(classification_report(y_test, y_pred_knn))\n",
    "\n",
    "# Train and evaluate the SVM model\n",
    "svm = SVC(kernel='linear', C=1)\n",
    "svm.fit(X_train, y_train)\n",
    "y_pred_svm = svm.predict(X_test)\n",
    "\n",
    "print(\"SVM Model:\")\n",
    "print(confusion_matrix(y_test, y_pred_svm))\n",
    "print(classification_report(y_test, y_pred_svm))\n"
   ]
  }
 ],
 "metadata": {
  "language_info": {
   "name": "python"
  },
  "orig_nbformat": 4
 },
 "nbformat": 4,
 "nbformat_minor": 2
}
