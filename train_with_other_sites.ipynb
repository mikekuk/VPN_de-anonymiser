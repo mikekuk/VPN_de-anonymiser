{
 "cells": [
  {
   "cell_type": "code",
   "execution_count": 1,
   "metadata": {},
   "outputs": [],
   "source": [
    "import os\n",
    "import pandas as pd\n",
    "import tensorflow as tf\n",
    "import numpy as np\n",
    "import datetime as dt\n",
    "from tensorflow import keras\n",
    "from tensorflow.keras import layers, callbacks\n",
    "from sklearn.preprocessing import LabelBinarizer\n",
    "from sklearn.model_selection import train_test_split\n",
    "from sklearn.dummy import DummyClassifier\n",
    "from sklearn.metrics import accuracy_score, confusion_matrix, ConfusionMatrixDisplay, classification_report\n",
    "from matplotlib import pyplot as plt"
   ]
  },
  {
   "cell_type": "markdown",
   "metadata": {},
   "source": [
    "# Train with other sites\n",
    "\n",
    "This notebook is used to train a modified ConvLSTM model with out of band data in order to allow it to correctly classify unknown sites. "
   ]
  },
  {
   "cell_type": "code",
   "execution_count": 19,
   "metadata": {},
   "outputs": [],
   "source": [
    "FEATURES_PATH = \"data/my_20_sec_features-additional_sites-2022_07_24__17_28_44.npy\"\n",
    "LABELS_PATH = \"data/my_20_sec_labels-additional_sites-2022_07_24__17_28_44.npy\"\n",
    "\n",
    "NAME = \"out_of_band_data_test\"\n",
    "\n",
    "SEED = 42\n",
    "\n",
    "SITES_LIST = [\n",
    "    \"www.amazon.co.uk\",\n",
    "    \"www.bbc.co.uk\",\n",
    "    \"www.ebay.co.uk\",\n",
    "    \"www.facebook.com\",\n",
    "    \"www.google.co.uk\",\n",
    "    \"www.google.com\",\n",
    "    \"www.twitter.com\",\n",
    "    \"www.uwe.ac.uk\",\n",
    "    \"www.wikipedia.com\",\n",
    "    \"www.youtube.com\"\n",
    "    ]"
   ]
  },
  {
   "cell_type": "code",
   "execution_count": 3,
   "metadata": {},
   "outputs": [
    {
     "data": {
      "text/plain": [
       "(3260, 200, 150, 2)"
      ]
     },
     "execution_count": 3,
     "metadata": {},
     "output_type": "execute_result"
    }
   ],
   "source": [
    "with open(FEATURES_PATH, 'rb') as f:\n",
    "    features = np.load(f)\n",
    "features.shape"
   ]
  },
  {
   "cell_type": "code",
   "execution_count": 5,
   "metadata": {},
   "outputs": [
    {
     "data": {
      "text/plain": [
       "(3260,)"
      ]
     },
     "execution_count": 5,
     "metadata": {},
     "output_type": "execute_result"
    }
   ],
   "source": [
    "with open(LABELS_PATH, 'rb') as f:\n",
    "    labels = np.load(f)\n",
    "labels.shape"
   ]
  },
  {
   "cell_type": "code",
   "execution_count": 9,
   "metadata": {},
   "outputs": [
    {
     "data": {
      "text/plain": [
       "array(['www.google.co.uk', 'www.bbc.co.uk', 'Other', 'www.facebook.com',\n",
       "       'Other', 'www.youtube.com', 'Other', 'Other', 'Other', 'Other'],\n",
       "      dtype='<U17')"
      ]
     },
     "execution_count": 9,
     "metadata": {},
     "output_type": "execute_result"
    }
   ],
   "source": [
    "labels_cleaned = np.array([label if label in SITES_LIST else \"Other\" for label in labels])\n",
    "labels_cleaned[:10]"
   ]
  },
  {
   "cell_type": "code",
   "execution_count": 10,
   "metadata": {},
   "outputs": [
    {
     "data": {
      "text/plain": [
       "(3260, 11)"
      ]
     },
     "execution_count": 10,
     "metadata": {},
     "output_type": "execute_result"
    }
   ],
   "source": [
    "label_binariser = LabelBinarizer()\n",
    "labels_encoded = label_binariser.fit_transform(labels_cleaned)\n",
    "labels_encoded.shape"
   ]
  },
  {
   "cell_type": "code",
   "execution_count": 11,
   "metadata": {},
   "outputs": [],
   "source": [
    "features_train, features_test, labels_train, labels_test = train_test_split(features, labels_encoded,\n",
    "    test_size=0.25,\n",
    "    shuffle=True,\n",
    "    random_state=SEED\n",
    ")"
   ]
  },
  {
   "cell_type": "code",
   "execution_count": 12,
   "metadata": {},
   "outputs": [
    {
     "name": "stdout",
     "output_type": "stream",
     "text": [
      "1278.0\n"
     ]
    }
   ],
   "source": [
    "max = features_train.max()\n",
    "\n",
    "features_train = features_train/max\n",
    "features_test = features_test/max\n",
    "\n",
    "print(max)"
   ]
  },
  {
   "cell_type": "code",
   "execution_count": 13,
   "metadata": {},
   "outputs": [],
   "source": [
    "def plot_history(history):\n",
    "    fig, axs = plt.subplots(1, 2, figsize=(10,5)) \n",
    "    (ax1, ax2) = axs\n",
    "    ax1.plot(history.history['loss'], label='train')\n",
    "    ax1.plot(history.history['val_loss'], label='validation')\n",
    "\n",
    "    ax1.legend(loc=\"upper right\")\n",
    "    ax1.set_xlabel(\"# of epochs\")\n",
    "    ax1.set_ylabel(\"loss\")\n",
    "\n",
    "    ax2.plot(history.history['accuracy'], label='train')\n",
    "    ax2.plot(history.history['val_accuracy'], label='validation')\n",
    "\n",
    "    ax2.legend(loc=\"upper right\")\n",
    "    ax2.set_xlabel(\"# of epochs\")\n",
    "    ax2.set_ylabel(\"accuracy\")\n",
    "\n",
    "    print(\"Final training accuracy:\", history.history['accuracy'][-1])\n",
    "    print(\"Final validation accuracy:\", history.history['val_accuracy'][-1])"
   ]
  },
  {
   "cell_type": "code",
   "execution_count": 14,
   "metadata": {},
   "outputs": [],
   "source": [
    "def plot_results(model):\n",
    "    fig, ax = plt.subplots(figsize=(12, 12))\n",
    "    y_true = np.argmax(labels_test, axis=1)\n",
    "    predictions =  np.argmax(model.predict(features_test), axis=1)\n",
    "    cm = confusion_matrix(y_true, predictions, normalize='true')\n",
    "    disp = ConfusionMatrixDisplay(\n",
    "        confusion_matrix=cm,\n",
    "        display_labels=[label_binariser.classes_[x] for x in range(unique_y.min(), len(unique_y))]\n",
    "        )\n",
    "    disp.plot(xticks_rotation=270, values_format=\".1f\", ax=ax)\n",
    "    plt.show()\n",
    "    print(classification_report(y_true, predictions))"
   ]
  },
  {
   "cell_type": "code",
   "execution_count": 16,
   "metadata": {},
   "outputs": [],
   "source": [
    "def create_convlstm_model():\n",
    "\n",
    "    model = keras.Sequential()\n",
    "\n",
    "    model.add(layers.ConvLSTM1D(\n",
    "        filters = 4,\n",
    "        kernel_size=5,\n",
    "        activation=\"tanh\",\n",
    "        data_format=\"channels_last\",\n",
    "        recurrent_dropout=0.2,\n",
    "        return_sequences=True,\n",
    "        input_shape = (features_train[0].shape)\n",
    "    ))\n",
    "\n",
    "    model.add(layers.MaxPooling2D(\n",
    "        pool_size = (1, 2),\n",
    "        padding = 'same',\n",
    "        data_format = \"channels_last\"\n",
    "    ))\n",
    "\n",
    "    model.add(layers.TimeDistributed(layers.Dropout(0.2)))\n",
    "    # Dropout layer for sequence data\n",
    "\n",
    "\n",
    "\n",
    "    model.add(layers.ConvLSTM1D(\n",
    "        filters=10,\n",
    "        kernel_size=15,\n",
    "        activation=\"tanh\",\n",
    "        data_format=\"channels_last\",\n",
    "        recurrent_dropout=0.2,\n",
    "        return_sequences=True\n",
    "    ))\n",
    "\n",
    "    model.add(layers.MaxPooling2D(\n",
    "        pool_size = (1, 2),\n",
    "        padding = 'same',\n",
    "        data_format = \"channels_last\"\n",
    "    ))\n",
    "\n",
    "    model.add(layers.TimeDistributed(layers.Dropout(0.2)))\n",
    "\n",
    "\n",
    "    model.add(layers.ConvLSTM1D(\n",
    "        filters=14,\n",
    "        kernel_size=10,\n",
    "        activation=\"tanh\",\n",
    "        data_format=\"channels_last\",\n",
    "        recurrent_dropout=0.2,\n",
    "        return_sequences=True\n",
    "    ))\n",
    "\n",
    "    model.add(layers.MaxPooling2D(\n",
    "        pool_size = (1, 2),\n",
    "        padding = 'same',\n",
    "        data_format = \"channels_last\"\n",
    "    ))\n",
    "\n",
    "    model.add(layers.TimeDistributed(layers.Dropout(0.2)))\n",
    "\n",
    "\n",
    "    model.add(layers.ConvLSTM1D(\n",
    "        filters=16,\n",
    "        kernel_size=10,\n",
    "        activation=\"tanh\",\n",
    "        data_format=\"channels_last\",\n",
    "        recurrent_dropout=0.2,\n",
    "        return_sequences=True\n",
    "    ))\n",
    "\n",
    "    model.add(layers.MaxPooling2D(\n",
    "        pool_size = (1, 2),\n",
    "        padding = 'same',\n",
    "        data_format = \"channels_last\"\n",
    "    ))\n",
    "\n",
    "    # model.add(TimeDistributed(Dropout(0.2)))\n",
    "\n",
    "\n",
    "    model.add(layers.Flatten())\n",
    "\n",
    "    model.add(layers.Dense(128, activation=\"relu\"))\n",
    "    \n",
    "    model.add(layers.Dense(labels_encoded.shape[1], activation=\"softmax\"))\n",
    "\n",
    "    model.summary()\n",
    "\n",
    "    return model"
   ]
  },
  {
   "cell_type": "code",
   "execution_count": 17,
   "metadata": {},
   "outputs": [
    {
     "name": "stderr",
     "output_type": "stream",
     "text": [
      "2022-07-25 13:52:34.610175: I tensorflow/core/platform/cpu_feature_guard.cc:151] This TensorFlow binary is optimized with oneAPI Deep Neural Network Library (oneDNN) to use the following CPU instructions in performance-critical operations:  AVX2 FMA\n",
      "To enable them in other operations, rebuild TensorFlow with the appropriate compiler flags.\n"
     ]
    },
    {
     "name": "stdout",
     "output_type": "stream",
     "text": [
      "Model: \"sequential\"\n",
      "_________________________________________________________________\n",
      " Layer (type)                Output Shape              Param #   \n",
      "=================================================================\n",
      " conv_lstm1d (ConvLSTM1D)    (None, 200, 146, 4)       496       \n",
      "                                                                 \n",
      " max_pooling2d (MaxPooling2D  (None, 200, 73, 4)       0         \n",
      " )                                                               \n",
      "                                                                 \n",
      " time_distributed (TimeDistr  (None, 200, 73, 4)       0         \n",
      " ibuted)                                                         \n",
      "                                                                 \n",
      " conv_lstm1d_1 (ConvLSTM1D)  (None, 200, 59, 10)       8440      \n",
      "                                                                 \n",
      " max_pooling2d_1 (MaxPooling  (None, 200, 30, 10)      0         \n",
      " 2D)                                                             \n",
      "                                                                 \n",
      " time_distributed_1 (TimeDis  (None, 200, 30, 10)      0         \n",
      " tributed)                                                       \n",
      "                                                                 \n",
      " conv_lstm1d_2 (ConvLSTM1D)  (None, 200, 21, 14)       13496     \n",
      "                                                                 \n",
      " max_pooling2d_2 (MaxPooling  (None, 200, 11, 14)      0         \n",
      " 2D)                                                             \n",
      "                                                                 \n",
      " time_distributed_2 (TimeDis  (None, 200, 11, 14)      0         \n",
      " tributed)                                                       \n",
      "                                                                 \n",
      " conv_lstm1d_3 (ConvLSTM1D)  (None, 200, 2, 16)        19264     \n",
      "                                                                 \n",
      " max_pooling2d_3 (MaxPooling  (None, 200, 1, 16)       0         \n",
      " 2D)                                                             \n",
      "                                                                 \n",
      " flatten (Flatten)           (None, 3200)              0         \n",
      "                                                                 \n",
      " dense (Dense)               (None, 128)               409728    \n",
      "                                                                 \n",
      " dense_1 (Dense)             (None, 11)                1419      \n",
      "                                                                 \n",
      "=================================================================\n",
      "Total params: 452,843\n",
      "Trainable params: 452,843\n",
      "Non-trainable params: 0\n",
      "_________________________________________________________________\n"
     ]
    }
   ],
   "source": [
    "convlstm_model = create_convlstm_model()"
   ]
  },
  {
   "cell_type": "code",
   "execution_count": 18,
   "metadata": {},
   "outputs": [],
   "source": [
    "early_stopping_callback = callbacks.EarlyStopping(monitor='val_loss', patience=10, mode='min', restore_best_weights=True)"
   ]
  },
  {
   "cell_type": "code",
   "execution_count": 20,
   "metadata": {},
   "outputs": [
    {
     "name": "stdout",
     "output_type": "stream",
     "text": [
      "Epoch 1/50\n",
      "123/123 [==============================] - 360s 3s/step - loss: 2.2167 - accuracy: 0.3354 - val_loss: 2.2464 - val_accuracy: 0.2924\n",
      "Epoch 2/50\n",
      "123/123 [==============================] - 351s 3s/step - loss: 2.1807 - accuracy: 0.3374 - val_loss: 2.2383 - val_accuracy: 0.2924\n",
      "Epoch 3/50\n",
      "123/123 [==============================] - 340s 3s/step - loss: 2.1792 - accuracy: 0.3374 - val_loss: 2.2465 - val_accuracy: 0.2924\n",
      "Epoch 4/50\n",
      "123/123 [==============================] - 336s 3s/step - loss: 2.1726 - accuracy: 0.3374 - val_loss: 2.2706 - val_accuracy: 0.2924\n",
      "Epoch 5/50\n",
      "123/123 [==============================] - 333s 3s/step - loss: 2.0958 - accuracy: 0.3563 - val_loss: 1.9848 - val_accuracy: 0.3497\n",
      "Epoch 6/50\n",
      "123/123 [==============================] - 336s 3s/step - loss: 1.8460 - accuracy: 0.3896 - val_loss: 1.7972 - val_accuracy: 0.3476\n",
      "Epoch 7/50\n",
      "123/123 [==============================] - 396s 3s/step - loss: 1.4608 - accuracy: 0.4473 - val_loss: 1.3254 - val_accuracy: 0.4969\n",
      "Epoch 8/50\n",
      "123/123 [==============================] - 341s 3s/step - loss: 1.2609 - accuracy: 0.4862 - val_loss: 1.2125 - val_accuracy: 0.5031\n",
      "Epoch 9/50\n",
      "123/123 [==============================] - 332s 3s/step - loss: 1.1230 - accuracy: 0.5486 - val_loss: 1.0738 - val_accuracy: 0.6012\n",
      "Epoch 10/50\n",
      "123/123 [==============================] - 329s 3s/step - loss: 1.0330 - accuracy: 0.5777 - val_loss: 0.9365 - val_accuracy: 0.6605\n",
      "Epoch 11/50\n",
      "123/123 [==============================] - 332s 3s/step - loss: 0.8268 - accuracy: 0.6779 - val_loss: 0.6889 - val_accuracy: 0.7526\n",
      "Epoch 12/50\n",
      "123/123 [==============================] - 334s 3s/step - loss: 0.7062 - accuracy: 0.7239 - val_loss: 0.5999 - val_accuracy: 0.7894\n",
      "Epoch 13/50\n",
      "123/123 [==============================] - 335s 3s/step - loss: 0.6083 - accuracy: 0.7689 - val_loss: 0.5894 - val_accuracy: 0.7996\n",
      "Epoch 14/50\n",
      "123/123 [==============================] - 334s 3s/step - loss: 0.5288 - accuracy: 0.7924 - val_loss: 0.5607 - val_accuracy: 0.7873\n",
      "Epoch 15/50\n",
      "123/123 [==============================] - 344s 3s/step - loss: 0.5013 - accuracy: 0.7863 - val_loss: 0.5199 - val_accuracy: 0.8139\n",
      "Epoch 16/50\n",
      "123/123 [==============================] - 340s 3s/step - loss: 0.4946 - accuracy: 0.7935 - val_loss: 0.4954 - val_accuracy: 0.8119\n",
      "Epoch 17/50\n",
      "123/123 [==============================] - 350s 3s/step - loss: 0.4582 - accuracy: 0.8108 - val_loss: 0.4930 - val_accuracy: 0.8078\n",
      "Epoch 18/50\n",
      "123/123 [==============================] - 343s 3s/step - loss: 0.4337 - accuracy: 0.8154 - val_loss: 0.5104 - val_accuracy: 0.7975\n",
      "Epoch 19/50\n",
      "123/123 [==============================] - 367s 3s/step - loss: 0.4169 - accuracy: 0.8195 - val_loss: 0.4669 - val_accuracy: 0.8303\n",
      "Epoch 20/50\n",
      "123/123 [==============================] - 354s 3s/step - loss: 0.3980 - accuracy: 0.8287 - val_loss: 0.5337 - val_accuracy: 0.8078\n",
      "Epoch 21/50\n",
      "123/123 [==============================] - 355s 3s/step - loss: 0.3657 - accuracy: 0.8369 - val_loss: 0.4277 - val_accuracy: 0.8548\n",
      "Epoch 22/50\n",
      "123/123 [==============================] - 347s 3s/step - loss: 0.3636 - accuracy: 0.8395 - val_loss: 0.5039 - val_accuracy: 0.8262\n",
      "Epoch 23/50\n",
      "123/123 [==============================] - 344s 3s/step - loss: 0.3423 - accuracy: 0.8538 - val_loss: 0.4292 - val_accuracy: 0.8528\n",
      "Epoch 24/50\n",
      "123/123 [==============================] - 352s 3s/step - loss: 0.3282 - accuracy: 0.8579 - val_loss: 0.4107 - val_accuracy: 0.8630\n",
      "Epoch 25/50\n",
      "123/123 [==============================] - 354s 3s/step - loss: 0.3350 - accuracy: 0.8569 - val_loss: 0.3959 - val_accuracy: 0.8732\n",
      "Epoch 26/50\n",
      " 69/123 [===============>..............] - ETA: 3:09 - loss: 0.3017 - accuracy: 0.8659"
     ]
    }
   ],
   "source": [
    "convlstm_model.compile(loss='categorical_crossentropy', optimizer='Adam', metrics=['accuracy'])\n",
    "convlstm_history = convlstm_model.fit(x=features_train, y=labels_train, epochs=50, batch_size=16, shuffle=True, validation_split=0.2, callbacks=[early_stopping_callback])"
   ]
  },
  {
   "cell_type": "code",
   "execution_count": 15,
   "metadata": {},
   "outputs": [],
   "source": [
    "y_true = np.argmax(labels_test, axis=1)\n",
    "unique_y = np.unique(y_true)"
   ]
  },
  {
   "cell_type": "code",
   "execution_count": null,
   "metadata": {},
   "outputs": [],
   "source": [
    "plot_history(convlstm_history)"
   ]
  },
  {
   "cell_type": "code",
   "execution_count": null,
   "metadata": {},
   "outputs": [],
   "source": [
    "model_evaluation_history = convlstm_model.evaluate(features_test, labels_test)\n",
    "loss, acc = model_evaluation_history\n",
    "date_time_format = '%Y_%m_%d__%H_%M_%S'\n",
    "current_datetime = dt.datetime.now()\n",
    "current_datetime_string = dt.datetime.strftime(current_datetime, date_time_format)\n",
    "model_file_name =f\"convlstm_model_{NAME}_Datetime_{current_datetime_string}__loss_{loss}_acc_{acc}.h5\"\n",
    "convlstm_model.save(os.path.join(\"models\", model_file_name))"
   ]
  },
  {
   "cell_type": "code",
   "execution_count": null,
   "metadata": {},
   "outputs": [],
   "source": [
    "plot_results(convlstm_model)"
   ]
  }
 ],
 "metadata": {
  "kernelspec": {
   "display_name": "Python 3.9.12 ('UNB_Datasets-qeLdalLc')",
   "language": "python",
   "name": "python3"
  },
  "language_info": {
   "codemirror_mode": {
    "name": "ipython",
    "version": 3
   },
   "file_extension": ".py",
   "mimetype": "text/x-python",
   "name": "python",
   "nbconvert_exporter": "python",
   "pygments_lexer": "ipython3",
   "version": "3.9.12"
  },
  "orig_nbformat": 4,
  "vscode": {
   "interpreter": {
    "hash": "86bc5e1ae678ca00618f5fd2590b9329e90818a147362b03ba7b4466c4d1d957"
   }
  }
 },
 "nbformat": 4,
 "nbformat_minor": 2
}
