{
 "cells": [
  {
   "cell_type": "code",
   "execution_count": 14,
   "metadata": {},
   "outputs": [],
   "source": [
    "import numpy as np\n",
    "import tensorflow as tf\n",
    "from tensorflow.keras import layers, models, optimizers, losses, metrics, callbacks, Model\n",
    "from keras.layers import Input, Conv2D, MaxPooling2D, UpSampling2D\n",
    "import matplotlib.pyplot as plt\n",
    "from sklearn.decomposition import PCA\n",
    "from sklearn.preprocessing import StandardScaler, LabelBinarizer"
   ]
  },
  {
   "cell_type": "code",
   "execution_count": 2,
   "metadata": {},
   "outputs": [],
   "source": [
    "FEATURES_PATH = \"data/my_20_sec_features-2022_07_04__09_01_04.npy\"\n",
    "LABELS_PATH = \"data/my_20_sec_labels-2022_07_04__09_01_04.npy\"\n",
    "SITES_PATH = \"VPN_client_scripts/urls/top_100.csv\"\n",
    "MODEL_NAME = \"PCA_small\"\n",
    "\n",
    "\n",
    "# SCALER_MAX = 1294.0\n",
    "SEED = 42"
   ]
  },
  {
   "cell_type": "code",
   "execution_count": null,
   "metadata": {},
   "outputs": [],
   "source": []
  },
  {
   "cell_type": "code",
   "execution_count": 3,
   "metadata": {},
   "outputs": [
    {
     "data": {
      "text/plain": [
       "(1000, 200, 150, 2)"
      ]
     },
     "execution_count": 3,
     "metadata": {},
     "output_type": "execute_result"
    }
   ],
   "source": [
    "with open(FEATURES_PATH, 'rb') as f:\n",
    "    features = np.load(f)\n",
    "features.shape"
   ]
  },
  {
   "cell_type": "code",
   "execution_count": 4,
   "metadata": {},
   "outputs": [
    {
     "data": {
      "text/plain": [
       "(1000,)"
      ]
     },
     "execution_count": 4,
     "metadata": {},
     "output_type": "execute_result"
    }
   ],
   "source": [
    "with open(LABELS_PATH, 'rb') as f:\n",
    "    labels = np.load(f)\n",
    "labels.shape"
   ]
  },
  {
   "cell_type": "code",
   "execution_count": 17,
   "metadata": {},
   "outputs": [
    {
     "name": "stdout",
     "output_type": "stream",
     "text": [
      "Model: \"model_6\"\n",
      "_________________________________________________________________\n",
      " Layer (type)                Output Shape              Param #   \n",
      "=================================================================\n",
      " input_12 (InputLayer)       [(None, 200, 150, 2)]     0         \n",
      "                                                                 \n",
      " conv2d_49 (Conv2D)          (None, 200, 150, 32)      608       \n",
      "                                                                 \n",
      " max_pooling2d_20 (MaxPoolin  (None, 100, 75, 32)      0         \n",
      " g2D)                                                            \n",
      "                                                                 \n",
      " conv2d_50 (Conv2D)          (None, 100, 75, 64)       18496     \n",
      "                                                                 \n",
      " max_pooling2d_21 (MaxPoolin  (None, 50, 38, 64)       0         \n",
      " g2D)                                                            \n",
      "                                                                 \n",
      " conv2d_51 (Conv2D)          (None, 50, 38, 128)       73856     \n",
      "                                                                 \n",
      " up_sampling2d_18 (UpSamplin  (None, 100, 76, 128)     0         \n",
      " g2D)                                                            \n",
      "                                                                 \n",
      " conv2d_52 (Conv2D)          (None, 100, 76, 64)       73792     \n",
      "                                                                 \n",
      " up_sampling2d_19 (UpSamplin  (None, 200, 152, 64)     0         \n",
      " g2D)                                                            \n",
      "                                                                 \n",
      " conv2d_53 (Conv2D)          (None, 200, 152, 32)      18464     \n",
      "                                                                 \n",
      " conv2d_54 (Conv2D)          (None, 200, 152, 2)       578       \n",
      "                                                                 \n",
      " cropping2d_1 (Cropping2D)   (None, 200, 150, 2)       0         \n",
      "                                                                 \n",
      "=================================================================\n",
      "Total params: 185,794\n",
      "Trainable params: 185,794\n",
      "Non-trainable params: 0\n",
      "_________________________________________________________________\n",
      "Epoch 1/5\n",
      "63/63 [==============================] - 85s 1s/step - loss: 2.8087\n",
      "Epoch 2/5\n",
      "63/63 [==============================] - 83s 1s/step - loss: 2.7808\n",
      "Epoch 3/5\n",
      "63/63 [==============================] - 82s 1s/step - loss: 2.7805\n",
      "Epoch 4/5\n",
      "63/63 [==============================] - 85s 1s/step - loss: 2.7802\n",
      "Epoch 5/5\n",
      "63/63 [==============================] - 85s 1s/step - loss: 2.7797\n"
     ]
    },
    {
     "data": {
      "text/plain": [
       "<keras.callbacks.History at 0x168e0fd00>"
      ]
     },
     "execution_count": 17,
     "metadata": {},
     "output_type": "execute_result"
    }
   ],
   "source": [
    "from keras.layers import Input, Conv2D, MaxPooling2D, UpSampling2D\n",
    "from keras.models import Model\n",
    "\n",
    "input_shape = (200, 150, 2)\n",
    "input_tensor = Input(shape=input_shape)\n",
    "\n",
    "# Encoding layers\n",
    "x = Conv2D(32, (3, 3), activation='relu', padding='same')(input_tensor)\n",
    "x = MaxPooling2D((2, 2), padding='same')(x)\n",
    "x = Conv2D(64, (3, 3), activation='relu', padding='same')(x)\n",
    "x = MaxPooling2D((2, 2), padding='same')(x)\n",
    "\n",
    "# Encoded representation\n",
    "encoded = Conv2D(128, (3, 3), activation='relu', padding='same')(x)\n",
    "\n",
    "# Decoding layers\n",
    "x = UpSampling2D((2, 2))(encoded)\n",
    "x = Conv2D(64, (3, 3), activation='relu', padding='same')(x)\n",
    "x = UpSampling2D((2, 2))(x)\n",
    "x = Conv2D(32, (3, 3), activation='relu', padding='same')(x)\n",
    "x = Conv2D(2, (3, 3), activation='sigmoid', padding='same')(x)\n",
    "\n",
    "# Crop the output to match the input dimensions\n",
    "decoded = layers.Cropping2D(cropping=((0, 0), (1, 1)))(x)\n",
    "\n",
    "# Create the autoencoder model\n",
    "autoencoder = Model(inputs=input_tensor, outputs=decoded)\n",
    "autoencoder.summary()\n",
    "\n",
    "# Compile the model\n",
    "autoencoder.compile(optimizer='adam', loss='mse')\n",
    "\n",
    "# Train the autoencoder\n",
    "autoencoder.fit(features, features, epochs=5, batch_size=16)\n"
   ]
  },
  {
   "cell_type": "code",
   "execution_count": null,
   "metadata": {},
   "outputs": [],
   "source": [
    "scaler = StandardScaler()\n",
    "standardized_data = scaler.fit_transform(concatenated_outputs)\n",
    "\n",
    "n_components = 2\n",
    "pca = PCA(n_components=n_components)\n",
    "principal_components = pca.fit_transform(standardized_data)\n"
   ]
  },
  {
   "cell_type": "code",
   "execution_count": 5,
   "metadata": {},
   "outputs": [
    {
     "name": "stdout",
     "output_type": "stream",
     "text": [
      "Local similarity: 0.8313727378845215\n"
     ]
    }
   ],
   "source": [
    "import numpy as np\n",
    "import tensorflow as tf\n",
    "\n",
    "def local_similarity(array1, array2, kernel_size=3):\n",
    "    array1 = np.expand_dims(array1, axis=0)\n",
    "    array2 = np.expand_dims(array2, axis=0)\n",
    "\n",
    "    input_shape = array1.shape\n",
    "    inputs = tf.keras.layers.Input(input_shape[1:])\n",
    "\n",
    "    conv = tf.keras.layers.Conv2D(1, kernel_size, padding='same', activation='relu')(inputs)\n",
    "    model = tf.keras.Model(inputs, conv)\n",
    "\n",
    "    conv_array1 = model(array1).numpy()\n",
    "    conv_array2 = model(array2).numpy()\n",
    "\n",
    "    similarity = 1 - np.mean(np.abs(conv_array1 - conv_array2))\n",
    "\n",
    "    return similarity\n",
    "\n",
    "# Create example 3D arrays\n",
    "array1 = np.random.rand(4, 4, 4)\n",
    "array2 = np.random.rand(4, 4, 4)\n",
    "\n",
    "similarity = local_similarity(array1, array2)\n",
    "print(\"Local similarity:\", similarity)\n",
    "\n"
   ]
  },
  {
   "cell_type": "code",
   "execution_count": null,
   "metadata": {},
   "outputs": [
    {
     "data": {
      "image/png": "[encoded data removed]",
      "text/plain": [
       "<Figure size 432x288 with 1 Axes>"
      ]
     },
     "metadata": {
      "needs_background": "light"
     },
     "output_type": "display_data"
    }
   ],
   "source": [
    "import matplotlib.cm as cm\n",
    "\n",
    "unique_labels = np.unique(labels)\n",
    "num_unique_labels = len(unique_labels)\n",
    "\n",
    "# Create a colormap with enough colors for your unique labels\n",
    "colormap = cm.get_cmap('viridis', num_unique_labels)\n",
    "\n",
    "fig, ax = plt.subplots()\n",
    "for i, label in enumerate(unique_labels):\n",
    "    indices = np.where(labels == label)\n",
    "    ax.scatter(principal_components[indices, 0], principal_components[indices, 1], c=[colormap(i)], label=f'Label {label}')\n",
    "\n",
    "ax.set_xlabel('Principal Component 1')\n",
    "ax.set_ylabel('Principal Component 2')\n",
    "ax.set_title('PCA Visualization with Labels')\n",
    "# ax.legend()\n",
    "plt.show()\n",
    "\n"
   ]
  }
 ],
 "metadata": {
  "kernelspec": {
   "display_name": "UNB_Datasets-qeLdalLc",
   "language": "python",
   "name": "python3"
  },
  "language_info": {
   "codemirror_mode": {
    "name": "ipython",
    "version": 3
   },
   "file_extension": ".py",
   "mimetype": "text/x-python",
   "name": "python",
   "nbconvert_exporter": "python",
   "pygments_lexer": "ipython3",
   "version": "3.9.12"
  },
  "orig_nbformat": 4,
  "vscode": {
   "interpreter": {
    "hash": "86bc5e1ae678ca00618f5fd2590b9329e90818a147362b03ba7b4466c4d1d957"
   }
  }
 },
 "nbformat": 4,
 "nbformat_minor": 2
}
