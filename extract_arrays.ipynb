{
 "cells": [
  {
   "cell_type": "markdown",
   "metadata": {},
   "source": [
    "# Purpose of this notebook\n",
    "\n",
    "This notebook produced the numpy arrays required for ml_test.ipynb from 20 second labeled pcaps. "
   ]
  },
  {
   "cell_type": "code",
   "execution_count": 22,
   "metadata": {},
   "outputs": [],
   "source": [
    "import os\n",
    "import numpy as np\n",
    "import re\n",
    "from scapy.all import *\n",
    "from datetime import datetime as dt\n",
    "from matplotlib import pyplot as plt"
   ]
  },
  {
   "cell_type": "code",
   "execution_count": 23,
   "metadata": {},
   "outputs": [],
   "source": [
    "TIMEFRAME = 20          # Number of seconds per captured frame\n",
    "\n",
    "NAME = \"AWS_trial_NO_GUI\"\n",
    "\n",
    "MIN_PACKETS = 20\n",
    "\n",
    "CLIENTS = [\n",
    "    \"192.168.254.0\",\n",
    "    \"192.168.254.1\",\n",
    "    \"192.168.254.2\",\n",
    "    \"172.31.51.124\"\n",
    "]\n",
    "                          # List of Client IP addresses used in the dataset."
   ]
  },
  {
   "attachments": {},
   "cell_type": "markdown",
   "metadata": {},
   "source": [
    "Run below to scrape from S3."
   ]
  },
  {
   "cell_type": "code",
   "execution_count": 24,
   "metadata": {},
   "outputs": [
    {
     "name": "stdout",
     "output_type": "stream",
     "text": [
      "download: s3://pcaps-for-wfa/3dmgame.com-VM1-93-11-2023_03_12__18_03_34.pcap to pcaps/AWS_trial_NO_GUI/3dmgame.com-VM1-93-11-2023_03_12__18_03_34.pcap\n",
      "download: s3://pcaps-for-wfa/52pojie.cn-VM1-99-10-2023_03_12__17_56_40.pcap to pcaps/AWS_trial_NO_GUI/52pojie.cn-VM1-99-10-2023_03_12__17_56_40.pcap\n",
      "download: s3://pcaps-for-wfa/1688.com-VM1-73-14-2023_03_12__18_05_13.pcap to pcaps/AWS_trial_NO_GUI/1688.com-VM1-73-14-2023_03_12__18_05_13.pcap\n",
      "download: s3://pcaps-for-wfa/babayu.tv-VM1-104-13-2023_03_12__17_57_08.pcap to pcaps/AWS_trial_NO_GUI/babayu.tv-VM1-104-13-2023_03_12__17_57_08.pcap\n",
      "download: s3://pcaps-for-wfa/365ball.com-VM1-244-13-2023_03_12__18_01_54.pcap to pcaps/AWS_trial_NO_GUI/365ball.com-VM1-244-13-2023_03_12__18_01_54.pcap\n",
      "download: s3://pcaps-for-wfa/biccamera.com-VM1-126-14-2023_03_12__17_48_42.pcap to pcaps/AWS_trial_NO_GUI/biccamera.com-VM1-126-14-2023_03_12__17_48_42.pcap\n",
      "download: s3://pcaps-for-wfa/beautifulbeachtab.com-VM1-126-15-2023_03_12__17_44_08.pcap to pcaps/AWS_trial_NO_GUI/beautifulbeachtab.com-VM1-126-15-2023_03_12__17_44_08.pcap\n",
      "download: s3://pcaps-for-wfa/amazon.com-VM1-10-10-2023_03_12__18_18_39.pcap to pcaps/AWS_trial_NO_GUI/amazon.com-VM1-10-10-2023_03_12__18_18_39.pcap\n",
      "download: s3://pcaps-for-wfa/csdn.net-VM1-19-15-2023_03_12__17_58_53.pcap to pcaps/AWS_trial_NO_GUI/csdn.net-VM1-19-15-2023_03_12__17_58_53.pcap\n",
      "download: s3://pcaps-for-wfa/diandongwajueji.com-VM1-110-10-2023_03_12__17_33_45.pcap to pcaps/AWS_trial_NO_GUI/diandongwajueji.com-VM1-110-10-2023_03_12__17_33_45.pcap\n",
      "download: s3://pcaps-for-wfa/bnu.edu.cn-VM1-184-15-2023_03_12__17_42_20.pcap to pcaps/AWS_trial_NO_GUI/bnu.edu.cn-VM1-184-15-2023_03_12__17_42_20.pcap\n",
      "download: s3://pcaps-for-wfa/amazon.com-VM1-10-13-2023_03_12__18_13_13.pcap to pcaps/AWS_trial_NO_GUI/amazon.com-VM1-10-13-2023_03_12__18_13_13.pcap\n",
      "download: s3://pcaps-for-wfa/etsystatic.com-VM1-143-12-2023_03_12__17_54_33.pcap to pcaps/AWS_trial_NO_GUI/etsystatic.com-VM1-143-12-2023_03_12__17_54_33.pcap\n",
      "download: s3://pcaps-for-wfa/betaseries.com-VM1-240-10-2023_03_12__17_37_37.pcap to pcaps/AWS_trial_NO_GUI/betaseries.com-VM1-240-10-2023_03_12__17_37_37.pcap\n",
      "download: s3://pcaps-for-wfa/etsy.com-VM1-71-11-2023_03_12__17_41_48.pcap to pcaps/AWS_trial_NO_GUI/etsy.com-VM1-71-11-2023_03_12__17_41_48.pcap\n",
      "download: s3://pcaps-for-wfa/ga-net.com-VM1-221-13-2023_03_12__17_39_36.pcap to pcaps/AWS_trial_NO_GUI/ga-net.com-VM1-221-13-2023_03_12__17_39_36.pcap\n",
      "download: s3://pcaps-for-wfa/aliexpress.com-VM1-34-10-2023_03_12__17_35_24.pcap to pcaps/AWS_trial_NO_GUI/aliexpress.com-VM1-34-10-2023_03_12__17_35_24.pcap\n",
      "download: s3://pcaps-for-wfa/fruitmail.net-VM1-183-15-2023_03_12__17_52_51.pcap to pcaps/AWS_trial_NO_GUI/fruitmail.net-VM1-183-15-2023_03_12__17_52_51.pcap\n",
      "download: s3://pcaps-for-wfa/anhdep24.com-VM1-283-14-2023_03_12__18_12_08.pcap to pcaps/AWS_trial_NO_GUI/anhdep24.com-VM1-283-14-2023_03_12__18_12_08.pcap\n",
      "download: s3://pcaps-for-wfa/hlsplayer.net-VM1-112-15-2023_03_12__18_10_25.pcap to pcaps/AWS_trial_NO_GUI/hlsplayer.net-VM1-112-15-2023_03_12__18_10_25.pcap\n",
      "download: s3://pcaps-for-wfa/asos.com-VM1-222-12-2023_03_12__17_35_50.pcap to pcaps/AWS_trial_NO_GUI/asos.com-VM1-222-12-2023_03_12__17_35_50.pcap\n",
      "download: s3://pcaps-for-wfa/google.com-VM1-0-13-2023_03_12__17_49_52.pcap to pcaps/AWS_trial_NO_GUI/google.com-VM1-0-13-2023_03_12__17_49_52.pcap\n",
      "download: s3://pcaps-for-wfa/geneanet.org-VM1-115-15-2023_03_12__18_07_00.pcap to pcaps/AWS_trial_NO_GUI/geneanet.org-VM1-115-15-2023_03_12__18_07_00.pcap\n",
      "download: s3://pcaps-for-wfa/etsy.com-VM1-71-10-2023_03_12__17_34_21.pcap to pcaps/AWS_trial_NO_GUI/etsy.com-VM1-71-10-2023_03_12__17_34_21.pcap\n",
      "download: s3://pcaps-for-wfa/javfinder.li-VM1-113-12-2023_03_12__18_20_19.pcap to pcaps/AWS_trial_NO_GUI/javfinder.li-VM1-113-12-2023_03_12__18_20_19.pcap\n",
      "download: s3://pcaps-for-wfa/ikman.lk-VM1-212-13-2023_03_12__18_05_48.pcap to pcaps/AWS_trial_NO_GUI/ikman.lk-VM1-212-13-2023_03_12__18_05_48.pcap\n",
      "download: s3://pcaps-for-wfa/cmu.edu-VM1-292-15-2023_03_12__17_34_48.pcap to pcaps/AWS_trial_NO_GUI/cmu.edu-VM1-292-15-2023_03_12__17_34_48.pcap\n",
      "download: s3://pcaps-for-wfa/loawa.com-VM1-241-15-2023_03_12__17_39_01.pcap to pcaps/AWS_trial_NO_GUI/loawa.com-VM1-241-15-2023_03_12__17_39_01.pcap\n",
      "download: s3://pcaps-for-wfa/lnk.to-VM1-166-14-2023_03_12__18_18_03.pcap to pcaps/AWS_trial_NO_GUI/lnk.to-VM1-166-14-2023_03_12__18_18_03.pcap\n",
      "download: s3://pcaps-for-wfa/lobstertube.com-VM1-255-15-2023_03_12__18_19_45.pcap to pcaps/AWS_trial_NO_GUI/lobstertube.com-VM1-255-15-2023_03_12__18_19_45.pcap\n",
      "download: s3://pcaps-for-wfa/maketecheasier.com-VM1-249-15-2023_03_12__18_15_37.pcap to pcaps/AWS_trial_NO_GUI/maketecheasier.com-VM1-249-15-2023_03_12__18_15_37.pcap\n",
      "download: s3://pcaps-for-wfa/mohrss.gov.cn-VM1-157-11-2023_03_12__17_44_45.pcap to pcaps/AWS_trial_NO_GUI/mohrss.gov.cn-VM1-157-11-2023_03_12__17_44_45.pcap\n",
      "download: s3://pcaps-for-wfa/delfi.lt-VM1-268-12-2023_03_12__18_01_14.pcap to pcaps/AWS_trial_NO_GUI/delfi.lt-VM1-268-12-2023_03_12__18_01_14.pcap\n",
      "download: s3://pcaps-for-wfa/link1s.com-VM1-122-15-2023_03_12__17_43_33.pcap to pcaps/AWS_trial_NO_GUI/link1s.com-VM1-122-15-2023_03_12__17_43_33.pcap\n",
      "download: s3://pcaps-for-wfa/nbwz.com-VM1-256-15-2023_03_12__17_59_28.pcap to pcaps/AWS_trial_NO_GUI/nbwz.com-VM1-256-15-2023_03_12__17_59_28.pcap\n",
      "download: s3://pcaps-for-wfa/newrank.cn-VM1-128-10-2023_03_12__18_08_11.pcap to pcaps/AWS_trial_NO_GUI/newrank.cn-VM1-128-10-2023_03_12__18_08_11.pcap\n",
      "download: s3://pcaps-for-wfa/imdb.com-VM1-48-11-2023_03_12__17_53_57.pcap to pcaps/AWS_trial_NO_GUI/imdb.com-VM1-48-11-2023_03_12__17_53_57.pcap\n",
      "download: s3://pcaps-for-wfa/nobodyhome.tv-VM1-257-14-2023_03_12__18_04_03.pcap to pcaps/AWS_trial_NO_GUI/nobodyhome.tv-VM1-257-14-2023_03_12__18_04_03.pcap\n",
      "download: s3://pcaps-for-wfa/cdsc.com.np-VM1-242-12-2023_03_12__17_48_07.pcap to pcaps/AWS_trial_NO_GUI/cdsc.com.np-VM1-242-12-2023_03_12__17_48_07.pcap\n",
      "download: s3://pcaps-for-wfa/msn.com-VM1-58-15-2023_03_12__18_00_38.pcap to pcaps/AWS_trial_NO_GUI/msn.com-VM1-58-15-2023_03_12__18_00_38.pcap\n",
      "download: s3://pcaps-for-wfa/msn.com-VM1-58-10-2023_03_12__17_58_18.pcap to pcaps/AWS_trial_NO_GUI/msn.com-VM1-58-10-2023_03_12__17_58_18.pcap\n",
      "download: s3://pcaps-for-wfa/olympusscanlation.com-VM1-116-13-2023_03_12__18_09_16.pcap to pcaps/AWS_trial_NO_GUI/olympusscanlation.com-VM1-116-13-2023_03_12__18_09_16.pcap\n",
      "download: s3://pcaps-for-wfa/nunude.com-VM1-250-13-2023_03_12__17_46_57.pcap to pcaps/AWS_trial_NO_GUI/nunude.com-VM1-250-13-2023_03_12__17_46_57.pcap\n",
      "download: s3://pcaps-for-wfa/ok.ru-VM1-69-13-2023_03_12__18_04_39.pcap to pcaps/AWS_trial_NO_GUI/ok.ru-VM1-69-13-2023_03_12__18_04_39.pcap\n",
      "download: s3://pcaps-for-wfa/hentai2read.com-VM1-166-15-2023_03_12__17_52_11.pcap to pcaps/AWS_trial_NO_GUI/hentai2read.com-VM1-166-15-2023_03_12__17_52_11.pcap\n",
      "download: s3://pcaps-for-wfa/onlyfans.com-VM1-98-15-2023_03_12__17_41_13.pcap to pcaps/AWS_trial_NO_GUI/onlyfans.com-VM1-98-15-2023_03_12__17_41_13.pcap\n",
      "download: s3://pcaps-for-wfa/porntop.com-VM1-208-12-2023_03_12__18_08_41.pcap to pcaps/AWS_trial_NO_GUI/porntop.com-VM1-208-12-2023_03_12__18_08_41.pcap\n",
      "download: s3://pcaps-for-wfa/note.com-VM1-149-15-2023_03_12__18_13_49.pcap to pcaps/AWS_trial_NO_GUI/note.com-VM1-149-15-2023_03_12__18_13_49.pcap\n",
      "download: s3://pcaps-for-wfa/kelatv.com-VM1-173-12-2023_03_12__18_02_29.pcap to pcaps/AWS_trial_NO_GUI/kelatv.com-VM1-173-12-2023_03_12__18_02_29.pcap\n",
      "download: s3://pcaps-for-wfa/pandalive.co.kr-VM1-209-14-2023_03_12__18_16_12.pcap to pcaps/AWS_trial_NO_GUI/pandalive.co.kr-VM1-209-14-2023_03_12__18_16_12.pcap\n",
      "download: s3://pcaps-for-wfa/phun.org-VM1-155-10-2023_03_12__18_10_58.pcap to pcaps/AWS_trial_NO_GUI/phun.org-VM1-155-10-2023_03_12__18_10_58.pcap\n",
      "download: s3://pcaps-for-wfa/qciss.net-VM1-108-15-2023_03_12__17_40_09.pcap to pcaps/AWS_trial_NO_GUI/qciss.net-VM1-108-15-2023_03_12__17_40_09.pcap\n",
      "download: s3://pcaps-for-wfa/primevideo.com-VM1-74-10-2023_03_12__17_49_17.pcap to pcaps/AWS_trial_NO_GUI/primevideo.com-VM1-74-10-2023_03_12__17_49_17.pcap\n",
      "download: s3://pcaps-for-wfa/shahed4u.team-VM1-132-12-2023_03_12__17_45_20.pcap to pcaps/AWS_trial_NO_GUI/shahed4u.team-VM1-132-12-2023_03_12__17_45_20.pcap\n",
      "download: s3://pcaps-for-wfa/sadnesscontemporary.com-VM1-145-14-2023_03_12__17_47_33.pcap to pcaps/AWS_trial_NO_GUI/sadnesscontemporary.com-VM1-145-14-2023_03_12__17_47_33.pcap\n",
      "download: s3://pcaps-for-wfa/nasa.gov-VM1-136-10-2023_03_12__17_53_26.pcap to pcaps/AWS_trial_NO_GUI/nasa.gov-VM1-136-10-2023_03_12__17_53_26.pcap\n",
      "download: s3://pcaps-for-wfa/jcrew.com-VM1-287-13-2023_03_12__17_56_04.pcap to pcaps/AWS_trial_NO_GUI/jcrew.com-VM1-287-13-2023_03_12__17_56_04.pcap\n",
      "download: s3://pcaps-for-wfa/pornhub.com-VM1-25-11-2023_03_12__17_37_02.pcap to pcaps/AWS_trial_NO_GUI/pornhub.com-VM1-25-11-2023_03_12__17_37_02.pcap\n",
      "download: s3://pcaps-for-wfa/sohu.com-VM1-50-14-2023_03_12__18_19_10.pcap to pcaps/AWS_trial_NO_GUI/sohu.com-VM1-50-14-2023_03_12__18_19_10.pcap\n",
      "download: s3://pcaps-for-wfa/revolve.com-VM1-198-11-2023_03_12__18_12_44.pcap to pcaps/AWS_trial_NO_GUI/revolve.com-VM1-198-11-2023_03_12__18_12_44.pcap\n",
      "download: s3://pcaps-for-wfa/spigotmc.org-VM1-130-15-2023_03_12__17_50_25.pcap to pcaps/AWS_trial_NO_GUI/spigotmc.org-VM1-130-15-2023_03_12__17_50_25.pcap\n",
      "download: s3://pcaps-for-wfa/shufoo.net-VM1-158-15-2023_03_12__17_51_00.pcap to pcaps/AWS_trial_NO_GUI/shufoo.net-VM1-158-15-2023_03_12__17_51_00.pcap\n",
      "download: s3://pcaps-for-wfa/telegram.org-VM1-55-12-2023_03_12__18_06_25.pcap to pcaps/AWS_trial_NO_GUI/telegram.org-VM1-55-12-2023_03_12__18_06_25.pcap\n",
      "download: s3://pcaps-for-wfa/tandfonline.com-VM1-284-15-2023_03_12__18_00_04.pcap to pcaps/AWS_trial_NO_GUI/tandfonline.com-VM1-284-15-2023_03_12__18_00_04.pcap\n",
      "download: s3://pcaps-for-wfa/tool.lu-VM1-168-11-2023_03_12__17_51_36.pcap to pcaps/AWS_trial_NO_GUI/tool.lu-VM1-168-11-2023_03_12__17_51_36.pcap\n",
      "download: s3://pcaps-for-wfa/tsinghua.edu.cn-VM1-141-11-2023_03_12__18_09_49.pcap to pcaps/AWS_trial_NO_GUI/tsinghua.edu.cn-VM1-141-11-2023_03_12__18_09_49.pcap\n",
      "download: s3://pcaps-for-wfa/themoviezflix.net-VM1-103-12-2023_03_12__18_14_25.pcap to pcaps/AWS_trial_NO_GUI/themoviezflix.net-VM1-103-12-2023_03_12__18_14_25.pcap\n",
      "download: s3://pcaps-for-wfa/td.com-VM1-149-15-2023_03_12__18_02_58.pcap to pcaps/AWS_trial_NO_GUI/td.com-VM1-149-15-2023_03_12__18_02_58.pcap\n",
      "download: s3://pcaps-for-wfa/urssaf.fr-VM1-241-14-2023_03_12__17_57_43.pcap to pcaps/AWS_trial_NO_GUI/urssaf.fr-VM1-241-14-2023_03_12__17_57_43.pcap\n",
      "download: s3://pcaps-for-wfa/pornavhd.com-VM1-260-10-2023_03_12__17_38_07.pcap to pcaps/AWS_trial_NO_GUI/pornavhd.com-VM1-260-10-2023_03_12__17_38_07.pcap\n",
      "download: s3://pcaps-for-wfa/sky.com-VM1-194-15-2023_03_12__18_11_34.pcap to pcaps/AWS_trial_NO_GUI/sky.com-VM1-194-15-2023_03_12__18_11_34.pcap\n",
      "download: s3://pcaps-for-wfa/twitch.tv-VM1-33-13-2023_03_12__18_15_01.pcap to pcaps/AWS_trial_NO_GUI/twitch.tv-VM1-33-13-2023_03_12__18_15_01.pcap\n",
      "download: s3://pcaps-for-wfa/ymmfa.com-VM1-299-14-2023_03_12__17_45_48.pcap to pcaps/AWS_trial_NO_GUI/ymmfa.com-VM1-299-14-2023_03_12__17_45_48.pcap\n",
      "download: s3://pcaps-for-wfa/zeyouquan.com-VM1-175-14-2023_03_12__18_07_36.pcap to pcaps/AWS_trial_NO_GUI/zeyouquan.com-VM1-175-14-2023_03_12__18_07_36.pcap\n",
      "download: s3://pcaps-for-wfa/zj.gov.cn-VM1-294-13-2023_03_12__17_38_42.pcap to pcaps/AWS_trial_NO_GUI/zj.gov.cn-VM1-294-13-2023_03_12__17_38_42.pcap\n",
      "download: s3://pcaps-for-wfa/zhongou.cc-VM1-252-14-2023_03_12__17_46_23.pcap to pcaps/AWS_trial_NO_GUI/zhongou.cc-VM1-252-14-2023_03_12__17_46_23.pcap\n",
      "download: s3://pcaps-for-wfa/teepublic.com-VM1-275-11-2023_03_12__18_16_49.pcap to pcaps/AWS_trial_NO_GUI/teepublic.com-VM1-275-11-2023_03_12__18_16_49.pcap\n",
      "download: s3://pcaps-for-wfa/xozilla.com-VM1-258-10-2023_03_12__17_36_25.pcap to pcaps/AWS_trial_NO_GUI/xozilla.com-VM1-258-10-2023_03_12__17_36_25.pcap\n",
      "download: s3://pcaps-for-wfa/xhamster.com-VM1-42-13-2023_03_12__17_55_28.pcap to pcaps/AWS_trial_NO_GUI/xhamster.com-VM1-42-13-2023_03_12__17_55_28.pcap\n",
      "download: s3://pcaps-for-wfa/yesfile.com-VM1-193-10-2023_03_12__17_40_44.pcap to pcaps/AWS_trial_NO_GUI/yesfile.com-VM1-193-10-2023_03_12__17_40_44.pcap\n",
      "download: s3://pcaps-for-wfa/fashionnova.com-VM1-125-15-2023_03_12__18_17_25.pcap to pcaps/AWS_trial_NO_GUI/fashionnova.com-VM1-125-15-2023_03_12__18_17_25.pcap\n",
      "download: s3://pcaps-for-wfa/pw.live-VM1-231-13-2023_03_12__17_42_55.pcap to pcaps/AWS_trial_NO_GUI/pw.live-VM1-231-13-2023_03_12__17_42_55.pcap\n",
      "download: s3://pcaps-for-wfa/shinden.pl-VM1-251-13-2023_03_12__17_54_52.pcap to pcaps/AWS_trial_NO_GUI/shinden.pl-VM1-251-13-2023_03_12__17_54_52.pcap\n"
     ]
    }
   ],
   "source": [
    "!mkdir ~/Documents/Uni/UNB_Datasets/pcaps/{NAME};\n",
    "!aws s3 cp s3://pcaps-for-wfa ~/Documents/Uni/UNB_Datasets/pcaps/{NAME} --recursive;"
   ]
  },
  {
   "cell_type": "code",
   "execution_count": 25,
   "metadata": {},
   "outputs": [],
   "source": [
    "PATH = f\"/Users/michaelkearney/Documents/Uni/UNB_Datasets/pcaps/{NAME}\""
   ]
  },
  {
   "cell_type": "code",
   "execution_count": 26,
   "metadata": {},
   "outputs": [],
   "source": [
    "dir_list = os.listdir(PATH)\n",
    "clips = [os.path.join(PATH, clip) for clip in dir_list if clip[-5:] == \".pcap\"]"
   ]
  },
  {
   "cell_type": "code",
   "execution_count": 27,
   "metadata": {},
   "outputs": [],
   "source": [
    "def extract_features_from_clips(clip):\n",
    "\n",
    "    matrix = np.zeros([TIMEFRAME * 10, 150, 2])\n",
    "    start_time = clip[0].time\n",
    "    for pkt in clip:\n",
    "        if IP in pkt:\n",
    "            length = (lambda x: x if x <= 1500 else 1500)(pkt[IP].len) # Packets over 1500 are rounded down to 1500\n",
    "            dir = (lambda x: 0 if x[IP].src in CLIENTS else 1)(pkt)\n",
    "            time_round = round(pkt.time - start_time, 1)\n",
    "            if time_round >= 20:\n",
    "                time_round = 20.0\n",
    "            matrix[int(time_round * 10)-1][int(length / 10)-1][dir] += 1\n",
    "    return np.array(matrix)\n",
    "    \n",
    "    "
   ]
  },
  {
   "cell_type": "code",
   "execution_count": 28,
   "metadata": {},
   "outputs": [],
   "source": [
    "features_list = []\n",
    "labels_list =[]\n",
    "\n",
    "for idx, file in enumerate(clips):\n",
    "    clip = rdpcap(file)\n",
    "    if len(clip) > MIN_PACKETS:\n",
    "        features_list.append(extract_features_from_clips(clip))\n",
    "        label = clips[idx][len(PATH)+1:].split(\"-\")[0]\n",
    "        # label = re.split(\"\\d\", label)[0]   # Uncomment for use with ICSX dataset\n",
    "        # label = re.split(\"_[AB]\", label)[0]    # Uncomment for use with ICSX dataset\n",
    "        label = label.split(\"-\")[0]\n",
    "        labels_list.append(label)\n",
    "    del(clip)\n"
   ]
  },
  {
   "cell_type": "code",
   "execution_count": 29,
   "metadata": {},
   "outputs": [
    {
     "name": "stdout",
     "output_type": "stream",
     "text": [
      "features shape (83, 200, 150, 2)\n",
      "labels shape (83,)\n"
     ]
    }
   ],
   "source": [
    "features = np.array(features_list)\n",
    "labels = np.array(labels_list)\n",
    "\n",
    "print(f\"features shape {features.shape}\\nlabels shape {labels.shape}\")"
   ]
  },
  {
   "cell_type": "code",
   "execution_count": 30,
   "metadata": {},
   "outputs": [
    {
     "data": {
      "text/plain": [
       "array([['1688.com', '1'],\n",
       "       ['365ball.com', '1'],\n",
       "       ['3dmgame.com', '1'],\n",
       "       ['52pojie.cn', '1'],\n",
       "       ['aliexpress.com', '1'],\n",
       "       ['amazon.com', '2'],\n",
       "       ['anhdep24.com', '1'],\n",
       "       ['asos.com', '1'],\n",
       "       ['babayu.tv', '1'],\n",
       "       ['beautifulbeachtab.com', '1'],\n",
       "       ['betaseries.com', '1'],\n",
       "       ['biccamera.com', '1'],\n",
       "       ['bnu.edu.cn', '1'],\n",
       "       ['cdsc.com.np', '1'],\n",
       "       ['cmu.edu', '1'],\n",
       "       ['csdn.net', '1'],\n",
       "       ['delfi.lt', '1'],\n",
       "       ['diandongwajueji.com', '1'],\n",
       "       ['etsy.com', '2'],\n",
       "       ['etsystatic.com', '1'],\n",
       "       ['fashionnova.com', '1'],\n",
       "       ['fruitmail.net', '1'],\n",
       "       ['ga', '1'],\n",
       "       ['geneanet.org', '1'],\n",
       "       ['google.com', '1'],\n",
       "       ['hentai2read.com', '1'],\n",
       "       ['hlsplayer.net', '1'],\n",
       "       ['ikman.lk', '1'],\n",
       "       ['imdb.com', '1'],\n",
       "       ['javfinder.li', '1'],\n",
       "       ['jcrew.com', '1'],\n",
       "       ['kelatv.com', '1'],\n",
       "       ['link1s.com', '1'],\n",
       "       ['lnk.to', '1'],\n",
       "       ['loawa.com', '1'],\n",
       "       ['lobstertube.com', '1'],\n",
       "       ['maketecheasier.com', '1'],\n",
       "       ['mohrss.gov.cn', '1'],\n",
       "       ['msn.com', '2'],\n",
       "       ['nasa.gov', '1'],\n",
       "       ['nbwz.com', '1'],\n",
       "       ['newrank.cn', '1'],\n",
       "       ['nobodyhome.tv', '1'],\n",
       "       ['note.com', '1'],\n",
       "       ['nunude.com', '1'],\n",
       "       ['ok.ru', '1'],\n",
       "       ['olympusscanlation.com', '1'],\n",
       "       ['onlyfans.com', '1'],\n",
       "       ['pandalive.co.kr', '1'],\n",
       "       ['phun.org', '1'],\n",
       "       ['pornavhd.com', '1'],\n",
       "       ['pornhub.com', '1'],\n",
       "       ['porntop.com', '1'],\n",
       "       ['primevideo.com', '1'],\n",
       "       ['pw.live', '1'],\n",
       "       ['qciss.net', '1'],\n",
       "       ['revolve.com', '1'],\n",
       "       ['sadnesscontemporary.com', '1'],\n",
       "       ['shahed4u.team', '1'],\n",
       "       ['shinden.pl', '1'],\n",
       "       ['shufoo.net', '1'],\n",
       "       ['sky.com', '1'],\n",
       "       ['sohu.com', '1'],\n",
       "       ['spigotmc.org', '1'],\n",
       "       ['tandfonline.com', '1'],\n",
       "       ['td.com', '1'],\n",
       "       ['teepublic.com', '1'],\n",
       "       ['telegram.org', '1'],\n",
       "       ['themoviezflix.net', '1'],\n",
       "       ['tool.lu', '1'],\n",
       "       ['tsinghua.edu.cn', '1'],\n",
       "       ['twitch.tv', '1'],\n",
       "       ['urssaf.fr', '1'],\n",
       "       ['xhamster.com', '1'],\n",
       "       ['xozilla.com', '1'],\n",
       "       ['yesfile.com', '1'],\n",
       "       ['ymmfa.com', '1'],\n",
       "       ['zeyouquan.com', '1'],\n",
       "       ['zhongou.cc', '1'],\n",
       "       ['zj.gov.cn', '1']], dtype='<U23')"
      ]
     },
     "execution_count": 30,
     "metadata": {},
     "output_type": "execute_result"
    }
   ],
   "source": [
    "unique, counts = np.unique(labels, return_counts=True)\n",
    "\n",
    "counts = np.asarray((unique, counts)).T\n",
    "counts"
   ]
  },
  {
   "cell_type": "code",
   "execution_count": 31,
   "metadata": {},
   "outputs": [],
   "source": [
    "# save = input(\"Do you want to save? y/n\") == \"y\"\n",
    "save = True\n",
    "\n",
    "if save:\n",
    "    date_time_format = '%Y_%m_%d__%H_%M_%S'\n",
    "    current_datetime = dt.now()\n",
    "    current_datetime_string = dt.strftime(current_datetime, date_time_format)\n",
    "\n",
    "    with open(f\"data/my_{TIMEFRAME}_sec_features-{NAME}-{current_datetime_string}.npy\", \"wb\") as f:\n",
    "        np.save(f, features)\n",
    "\n",
    "    with open(f\"data/my_{TIMEFRAME}_sec_labels-{NAME}-{current_datetime_string}.npy\", \"wb\") as f:\n",
    "        np.save(f, labels)"
   ]
  }
 ],
 "metadata": {
  "interpreter": {
   "hash": "86bc5e1ae678ca00618f5fd2590b9329e90818a147362b03ba7b4466c4d1d957"
  },
  "kernelspec": {
   "display_name": "Python 3.9.12 ('UNB_Datasets-qeLdalLc')",
   "language": "python",
   "name": "python3"
  },
  "language_info": {
   "codemirror_mode": {
    "name": "ipython",
    "version": 3
   },
   "file_extension": ".py",
   "mimetype": "text/x-python",
   "name": "python",
   "nbconvert_exporter": "python",
   "pygments_lexer": "ipython3",
   "version": "3.9.12"
  },
  "orig_nbformat": 4
 },
 "nbformat": 4,
 "nbformat_minor": 2
}
