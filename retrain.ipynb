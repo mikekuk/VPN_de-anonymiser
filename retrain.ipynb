{
  "cells": [
    {
      "cell_type": "markdown",
      "metadata": {
        "id": "PByLET5vs9gE"
      },
      "source": [
        "# Purpose of tis Notebook\n",
        "\n",
        "This notebook is used for training the test models. It inputs numpy arrays that are extracted by extract_arrays.ipynb. tHe paths to these should be entered in the FEATURES_PATH and LABELS_PATH variables.\n",
        "\n",
        "The notebook trains the models and print the evaluate results. It also saves the models for reuse. \n",
        "\n",
        "\n"
      ]
    },
    {
      "cell_type": "code",
      "execution_count": 1,
      "metadata": {
        "id": "wDtOqoUHs9gG"
      },
      "outputs": [],
      "source": [
        "import os\n",
        "import pandas as pd\n",
        "import tensorflow as tf\n",
        "import numpy as np\n",
        "import datetime as dt\n",
        "from tensorflow import keras\n",
        "from tensorflow.keras import layers, callbacks\n",
        "from sklearn.preprocessing import LabelBinarizer\n",
        "from sklearn.model_selection import train_test_split\n",
        "from sklearn.dummy import DummyClassifier\n",
        "from sklearn.metrics import accuracy_score, confusion_matrix, ConfusionMatrixDisplay, classification_report\n",
        "from matplotlib import pyplot as plt\n",
        "\n",
        "SEED = 42"
      ]
    },
    {
      "cell_type": "code",
      "execution_count": 2,
      "metadata": {
        "colab": {
          "base_uri": "https://localhost:8080/"
        },
        "id": "2G1vvVSmOMAj",
        "outputId": "591584d0-7919-4009-e963-e3dd33da1a0c"
      },
      "outputs": [],
      "source": [
        "# device_name = tf.test.gpu_device_name()\n",
        "# if device_name != '/device:GPU:0':\n",
        "#   raise SystemError('GPU device not found')\n",
        "# print('Found GPU at: {}'.format(device_name))"
      ]
    },
    {
      "cell_type": "code",
      "execution_count": 3,
      "metadata": {
        "id": "SvgDkCD_wb7D"
      },
      "outputs": [],
      "source": [
        "FEATURES_PATH = \"data/my_20_sec_features-AWS_trial_NO_GUI_30k-2023_03_25__03_36_34.npy\"\n",
        "LABELS_PATH = \"/Users/michaelkearney/Documents/Uni/UNB_Datasets/data/my_20_sec_labels-AWS_trial_NO_GUI_30k-2023_03_25__03_36_34.npy\"\n",
        "SITES_PATH = \"VPN_client_scripts/urls/top_100.csv\"\n",
        "MODEL_NAME = \"30K-retrain\"\n",
        "\n",
        "\n",
        "MODEL_PATH = \"models/convlstm_large_model_Datetime_2022_10_20__22_26_06__loss_0.533180296421051_acc_0.9062302112579346.h5\"\n",
        "SCALER_MAX = 1294.0"
      ]
    },
    {
      "cell_type": "code",
      "execution_count": 4,
      "metadata": {},
      "outputs": [
        {
          "name": "stderr",
          "output_type": "stream",
          "text": [
            "2023-03-25 14:40:47.345520: I tensorflow/core/platform/cpu_feature_guard.cc:151] This TensorFlow binary is optimized with oneAPI Deep Neural Network Library (oneDNN) to use the following CPU instructions in performance-critical operations:  AVX2 FMA\n",
            "To enable them in other operations, rebuild TensorFlow with the appropriate compiler flags.\n"
          ]
        }
      ],
      "source": [
        "model = tf.keras.models.load_model(MODEL_PATH)"
      ]
    },
    {
      "cell_type": "code",
      "execution_count": 5,
      "metadata": {},
      "outputs": [
        {
          "data": {
            "text/plain": [
              "100"
            ]
          },
          "execution_count": 5,
          "metadata": {},
          "output_type": "execute_result"
        }
      ],
      "source": [
        "sites_df = pd.read_csv(SITES_PATH, names=[\"ranking\", \"site\"])\n",
        "sites = list(sites_df.site)\n",
        "len(sites)"
      ]
    },
    {
      "cell_type": "code",
      "execution_count": 6,
      "metadata": {
        "colab": {
          "base_uri": "https://localhost:8080/"
        },
        "id": "zcR5KePxtN6c",
        "outputId": "0d0bd3d5-5d3c-4664-b8b4-4a05ff6cf024"
      },
      "outputs": [
        {
          "data": {
            "text/plain": [
              "(11497, 200, 150, 2)"
            ]
          },
          "execution_count": 6,
          "metadata": {},
          "output_type": "execute_result"
        }
      ],
      "source": [
        "with open(FEATURES_PATH, 'rb') as f:\n",
        "    features = np.load(f)\n",
        "features.shape"
      ]
    },
    {
      "cell_type": "code",
      "execution_count": 7,
      "metadata": {
        "colab": {
          "base_uri": "https://localhost:8080/"
        },
        "id": "1KNWgEIHuI6G",
        "outputId": "347e1da1-ef66-47ec-d9bd-8d401994b663"
      },
      "outputs": [
        {
          "data": {
            "text/plain": [
              "(11497,)"
            ]
          },
          "execution_count": 7,
          "metadata": {},
          "output_type": "execute_result"
        }
      ],
      "source": [
        "with open(LABELS_PATH, 'rb') as f:\n",
        "    labels = np.load(f)\n",
        "labels.shape"
      ]
    },
    {
      "cell_type": "code",
      "execution_count": 8,
      "metadata": {
        "colab": {
          "base_uri": "https://localhost:8080/"
        },
        "id": "N-srKf-os9gH",
        "outputId": "a927f1e8-ba75-4e02-9994-b74c174dc99b"
      },
      "outputs": [
        {
          "data": {
            "text/plain": [
              "['google.com',\n",
              " 'youtube.com',\n",
              " 'facebook.com',\n",
              " 'baidu.com',\n",
              " 'instagram.com',\n",
              " 'yahoo.com',\n",
              " 'qq.com',\n",
              " 'wikipedia.org',\n",
              " 'bing.com',\n",
              " 'bilibili.com']"
            ]
          },
          "execution_count": 8,
          "metadata": {},
          "output_type": "execute_result"
        }
      ],
      "source": [
        "sites_df = pd.read_csv(SITES_PATH, names=[\"ranking\", \"site\"])\n",
        "sites = list(sites_df.site)\n",
        "sites[:10]"
      ]
    },
    {
      "cell_type": "code",
      "execution_count": 9,
      "metadata": {
        "id": "VpbsALbps9gJ"
      },
      "outputs": [],
      "source": [
        "for i, label in enumerate(labels):\n",
        "  if label not in sites:\n",
        "    labels[i] = \"Other\""
      ]
    },
    {
      "cell_type": "code",
      "execution_count": 10,
      "metadata": {
        "colab": {
          "base_uri": "https://localhost:8080/"
        },
        "id": "x8SwoBWtHxNo",
        "outputId": "7fd4413b-eb9e-45bd-adfe-01d5f77ac786"
      },
      "outputs": [
        {
          "name": "stdout",
          "output_type": "stream",
          "text": [
            "163.com\n",
            "1688.com\n",
            "360.cn\n",
            "3dmgame.com\n",
            "52pojie.cn\n",
            "Other\n",
            "adobe.com\n",
            "aliexpress.com\n",
            "amazon.com\n",
            "amazonaws.com\n",
            "apple.com\n",
            "baidu.com\n",
            "bilibili.com\n",
            "bing.com\n",
            "booking.com\n",
            "canva.com\n",
            "chaturbate.com\n",
            "chsi.com.cn\n",
            "cnblogs.com\n",
            "csdn.net\n",
            "deepl.com\n",
            "discord.com\n",
            "disneyplus.com\n",
            "douban.com\n",
            "douyu.com\n",
            "duckduckgo.com\n",
            "dzen.ru\n",
            "ebay.com\n",
            "etsy.com\n",
            "facebook.com\n",
            "fandom.com\n",
            "flipkart.com\n",
            "freepik.com\n",
            "github.com\n",
            "google.com\n",
            "hao123.com\n",
            "hbomax.com\n",
            "huya.com\n",
            "ilovepdf.com\n",
            "imdb.com\n",
            "indeed.com\n",
            "instagram.com\n",
            "instructure.com\n",
            "iqiyi.com\n",
            "jd.com\n",
            "linkedin.com\n",
            "live.com\n",
            "mail.ru\n",
            "mediafire.com\n",
            "microsoft.com\n",
            "msn.com\n",
            "myshopify.com\n",
            "netflix.com\n",
            "office.com\n",
            "ok.ru\n",
            "onlyfans.com\n",
            "paypal.com\n",
            "pinterest.com\n",
            "pornhub.com\n",
            "primevideo.com\n",
            "qq.com\n",
            "quora.com\n",
            "rakuten.co.jp\n",
            "reddit.com\n",
            "roblox.com\n",
            "sina.com.cn\n",
            "so.com\n",
            "sogou.com\n",
            "sohu.com\n",
            "soso.com\n",
            "spankbang.com\n",
            "spotify.com\n",
            "stackoverflow.com\n",
            "stripchat.com\n",
            "t.me\n",
            "taobao.com\n",
            "telegram.org\n",
            "tiktok.com\n",
            "tmall.com\n",
            "tradingview.com\n",
            "twitch.tv\n",
            "twitter.com\n",
            "udemy.com\n",
            "vk.com\n",
            "weibo.com\n",
            "whatsapp.com\n",
            "wikipedia.org\n",
            "wordpress.com\n",
            "xhamster.com\n",
            "xnxx.com\n",
            "xvideos.com\n",
            "yahoo.com\n",
            "yandex.ru\n",
            "youku.com\n",
            "youtube.com\n",
            "zhihu.com\n",
            "zoom.us\n",
            "Num nuique = 97\n"
          ]
        }
      ],
      "source": [
        "count = 0\n",
        "for label in np.unique(labels, axis=0):\n",
        "  print(label)\n",
        "  count += 1\n",
        "\n",
        "print(f\"Num nuique = {count}\")"
      ]
    },
    {
      "cell_type": "code",
      "execution_count": 11,
      "metadata": {
        "colab": {
          "base_uri": "https://localhost:8080/"
        },
        "id": "XXY7ove-s9gJ",
        "outputId": "4ad31ab6-0cb0-4e95-8878-a72f79791d46"
      },
      "outputs": [
        {
          "data": {
            "text/plain": [
              "(11497, 100)"
            ]
          },
          "execution_count": 11,
          "metadata": {},
          "output_type": "execute_result"
        }
      ],
      "source": [
        "label_binariser = LabelBinarizer()\n",
        "label_binariser.classes_ = np.load('encoders/classes.npy')\n",
        "# label_binariser.fit(pd.DataFrame(sites))\n",
        "labels_encoded = label_binariser.transform(labels)\n",
        "del(labels)\n",
        "labels_encoded.shape"
      ]
    },
    {
      "cell_type": "code",
      "execution_count": 12,
      "metadata": {
        "id": "Fh8UmNtvs9gK"
      },
      "outputs": [],
      "source": [
        "features_train, features_test, labels_train, labels_test = train_test_split(features, labels_encoded,\n",
        "    test_size=0.25,\n",
        "    shuffle=True,\n",
        "    random_state=SEED\n",
        ")\n",
        "\n",
        "del(features)"
      ]
    },
    {
      "cell_type": "code",
      "execution_count": 13,
      "metadata": {
        "colab": {
          "base_uri": "https://localhost:8080/"
        },
        "id": "VEten752s9gL",
        "outputId": "77631ac6-2625-498f-f495-99a22357f2fd"
      },
      "outputs": [],
      "source": [
        "\n",
        "\n",
        "features_train = features_train/SCALER_MAX\n",
        "features_test = features_test/SCALER_MAX\n"
      ]
    },
    {
      "cell_type": "code",
      "execution_count": 14,
      "metadata": {
        "id": "hohbGrF_s9gL"
      },
      "outputs": [],
      "source": [
        "early_stopping_callback = callbacks.EarlyStopping(monitor='val_loss', patience=10, mode='min', restore_best_weights=True)"
      ]
    },
    {
      "cell_type": "code",
      "execution_count": 15,
      "metadata": {
        "id": "ezySpQgZs9gM"
      },
      "outputs": [],
      "source": [
        "opt = tf.keras.optimizers.Adam(learning_rate=1)\n"
      ]
    },
    {
      "cell_type": "code",
      "execution_count": 16,
      "metadata": {
        "id": "G8wRjCW5s9gN"
      },
      "outputs": [],
      "source": [
        "def plot_history(history):\n",
        "    fig, axs = plt.subplots(1, 2, figsize=(10,5)) \n",
        "    (ax1, ax2) = axs\n",
        "    ax1.plot(history.history['loss'], label='train')\n",
        "    ax1.plot(history.history['val_loss'], label='validation')\n",
        "\n",
        "    ax1.legend(loc=\"upper right\")\n",
        "    ax1.set_xlabel(\"# of epochs\")\n",
        "    ax1.set_ylabel(\"loss\")\n",
        "\n",
        "    ax2.plot(history.history['accuracy'], label='train')\n",
        "    ax2.plot(history.history['val_accuracy'], label='validation')\n",
        "\n",
        "    ax2.legend(loc=\"upper right\")\n",
        "    ax2.set_xlabel(\"# of epochs\")\n",
        "    ax2.set_ylabel(\"accuracy\")\n",
        "\n",
        "    print(\"Final training accuracy:\", history.history['accuracy'][-1])\n",
        "    print(\"Final validation accuracy:\", history.history['val_accuracy'][-1])"
      ]
    },
    {
      "cell_type": "code",
      "execution_count": 17,
      "metadata": {
        "id": "a3THPLOms9gO"
      },
      "outputs": [],
      "source": [
        "y_true = np.argmax(labels_test, axis=1)\n",
        "unique_y = np.unique(y_true)"
      ]
    },
    {
      "cell_type": "code",
      "execution_count": 3,
      "metadata": {
        "id": "icuqo6nQs9gP"
      },
      "outputs": [],
      "source": [
        "def plot_results(model):\n",
        "    fig, ax = plt.subplots(figsize=(30, 30))\n",
        "    y_true = np.argmax(labels_test, axis=1)\n",
        "    predictions =  np.argmax(model.predict(features_test), axis=1)\n",
        "    cm = confusion_matrix(y_true, predictions, normalize='true')\n",
        "    disp = ConfusionMatrixDisplay(\n",
        "        confusion_matrix=cm,\n",
        "        # display_labels=[label_binariser.classes_[x] for x in range(unique_y.min(), len(unique_y))]\n",
        "        # display_labels=[label_binariser.classes_[x] for x in range(100)]\n",
        "        )\n",
        "    disp.plot(xticks_rotation=270, values_format=\".1f\", ax=ax)\n",
        "    plt.show()\n",
        "    print(classification_report(y_true, predictions))"
      ]
    },
    {
      "cell_type": "code",
      "execution_count": 20,
      "metadata": {
        "colab": {
          "base_uri": "https://localhost:8080/"
        },
        "id": "gXndoVTfRKfl",
        "outputId": "e899b6c2-5362-4307-f8d1-562d0e41d92a"
      },
      "outputs": [
        {
          "name": "stdout",
          "output_type": "stream",
          "text": [
            "Epoch 1/50\n",
            "54/54 [==============================] - 533s 10s/step - loss: 3.4422 - accuracy: 0.4316 - val_loss: 2.2021 - val_accuracy: 0.4899\n",
            "Epoch 2/50\n",
            "54/54 [==============================] - 532s 10s/step - loss: 2.0133 - accuracy: 0.5205 - val_loss: 1.7505 - val_accuracy: 0.5496\n",
            "Epoch 3/50\n",
            "54/54 [==============================] - 513s 10s/step - loss: 1.5566 - accuracy: 0.5946 - val_loss: 1.3783 - val_accuracy: 0.6284\n",
            "Epoch 4/50\n",
            "54/54 [==============================] - 548s 10s/step - loss: 1.2130 - accuracy: 0.6620 - val_loss: 1.1837 - val_accuracy: 0.6812\n",
            "Epoch 5/50\n",
            "54/54 [==============================] - 875s 16s/step - loss: 0.9979 - accuracy: 0.7180 - val_loss: 1.0569 - val_accuracy: 0.7107\n",
            "Epoch 6/50\n",
            "54/54 [==============================] - 506s 9s/step - loss: 0.8560 - accuracy: 0.7531 - val_loss: 0.9724 - val_accuracy: 0.7380\n",
            "Epoch 7/50\n",
            "54/54 [==============================] - 883s 16s/step - loss: 0.7143 - accuracy: 0.7950 - val_loss: 0.9448 - val_accuracy: 0.7397\n",
            "Epoch 8/50\n",
            "54/54 [==============================] - 506s 9s/step - loss: 0.6225 - accuracy: 0.8192 - val_loss: 0.8749 - val_accuracy: 0.7670\n",
            "Epoch 9/50\n",
            "54/54 [==============================] - 756s 14s/step - loss: 0.5373 - accuracy: 0.8366 - val_loss: 0.8698 - val_accuracy: 0.7768\n",
            "Epoch 10/50\n",
            "54/54 [==============================] - 504s 9s/step - loss: 0.4992 - accuracy: 0.8501 - val_loss: 0.9076 - val_accuracy: 0.7623\n",
            "Epoch 11/50\n",
            "54/54 [==============================] - 926s 17s/step - loss: 0.4348 - accuracy: 0.8720 - val_loss: 0.8606 - val_accuracy: 0.7751\n",
            "Epoch 12/50\n",
            "54/54 [==============================] - 658s 12s/step - loss: 0.3933 - accuracy: 0.8770 - val_loss: 0.8626 - val_accuracy: 0.7826\n",
            "Epoch 13/50\n",
            "54/54 [==============================] - 475s 9s/step - loss: 0.3604 - accuracy: 0.8844 - val_loss: 0.8417 - val_accuracy: 0.7907\n",
            "Epoch 14/50\n",
            "54/54 [==============================] - 475s 9s/step - loss: 0.3255 - accuracy: 0.8975 - val_loss: 0.8483 - val_accuracy: 0.7855\n",
            "Epoch 15/50\n",
            "54/54 [==============================] - 476s 9s/step - loss: 0.2823 - accuracy: 0.9123 - val_loss: 0.8519 - val_accuracy: 0.8006\n",
            "Epoch 16/50\n",
            "54/54 [==============================] - 477s 9s/step - loss: 0.2532 - accuracy: 0.9198 - val_loss: 0.8809 - val_accuracy: 0.7872\n",
            "Epoch 17/50\n",
            "54/54 [==============================] - 476s 9s/step - loss: 0.2274 - accuracy: 0.9303 - val_loss: 0.9097 - val_accuracy: 0.7965\n",
            "Epoch 18/50\n",
            "54/54 [==============================] - 479s 9s/step - loss: 0.2206 - accuracy: 0.9307 - val_loss: 0.8956 - val_accuracy: 0.8046\n",
            "Epoch 19/50\n",
            "54/54 [==============================] - 515s 10s/step - loss: 0.2055 - accuracy: 0.9319 - val_loss: 0.8748 - val_accuracy: 0.8133\n",
            "Epoch 20/50\n",
            "54/54 [==============================] - 912s 17s/step - loss: 0.1830 - accuracy: 0.9388 - val_loss: 0.9092 - val_accuracy: 0.8064\n",
            "Epoch 21/50\n",
            "54/54 [==============================] - 662s 12s/step - loss: 0.1597 - accuracy: 0.9465 - val_loss: 0.9309 - val_accuracy: 0.8052\n",
            "Epoch 22/50\n",
            "54/54 [==============================] - 770s 14s/step - loss: 0.1577 - accuracy: 0.9472 - val_loss: 0.9429 - val_accuracy: 0.8081\n",
            "Epoch 23/50\n",
            "54/54 [==============================] - 716s 13s/step - loss: 0.1415 - accuracy: 0.9526 - val_loss: 0.9725 - val_accuracy: 0.8110\n"
          ]
        }
      ],
      "source": [
        "convlstm_history = model.fit(x=features_train, y=labels_train, epochs=50, batch_size=128, shuffle=True, validation_split=0.2, callbacks=[early_stopping_callback])"
      ]
    },
    {
      "cell_type": "code",
      "execution_count": 23,
      "metadata": {
        "colab": {
          "base_uri": "https://localhost:8080/",
          "height": 164
        },
        "id": "pjydlQrFs9gR",
        "outputId": "36d751c1-ee1a-4256-a64f-46fb119ded44"
      },
      "outputs": [
        {
          "name": "stdout",
          "output_type": "stream",
          "text": [
            "Final training accuracy: 0.9525880813598633\n",
            "Final validation accuracy: 0.8110144734382629\n"
          ]
        },
        {
          "data": {
            "image/png": "[encoded data removed]",
            "text/plain": [
              "<Figure size 720x360 with 2 Axes>"
            ]
          },
          "metadata": {
            "needs_background": "light"
          },
          "output_type": "display_data"
        }
      ],
      "source": [
        "plot_history(convlstm_history)"
      ]
    },
    {
      "cell_type": "code",
      "execution_count": 26,
      "metadata": {
        "id": "cvFqkpJKs9gR"
      },
      "outputs": [
        {
          "name": "stdout",
          "output_type": "stream",
          "text": [
            "90/90 [==============================] - 31s 349ms/step - loss: 0.8670 - accuracy: 0.7948\n"
          ]
        }
      ],
      "source": [
        "model_evaluation_history = model.evaluate(features_test, labels_test)\n",
        "loss, acc = model_evaluation_history\n",
        "date_time_format = '%Y_%m_%d__%H_%M_%S'\n",
        "current_datetime = dt.datetime.now()\n",
        "current_datetime_string = dt.datetime.strftime(current_datetime, date_time_format)\n",
        "model_file_name =f\"convlstm_{MODEL_NAME}_model_Datetime_{current_datetime_string}__loss_{loss}_acc_{acc}.h5\"\n",
        "model.save(os.path.join(\"models\", model_file_name))"
      ]
    },
    {
      "cell_type": "code",
      "execution_count": 4,
      "metadata": {
        "id": "1x-BEhwns9gS"
      },
      "outputs": [
        {
          "ename": "NameError",
          "evalue": "name 'model' is not defined",
          "output_type": "error",
          "traceback": [
            "\u001b[0;31m---------------------------------------------------------------------------\u001b[0m",
            "\u001b[0;31mNameError\u001b[0m                                 Traceback (most recent call last)",
            "\u001b[1;32m/Users/michaelkearney/Documents/Uni/UNB_Datasets/retrain.ipynb Cell 23\u001b[0m in \u001b[0;36m<cell line: 1>\u001b[0;34m()\u001b[0m\n\u001b[0;32m----> <a href='vscode-notebook-cell:/Users/michaelkearney/Documents/Uni/UNB_Datasets/retrain.ipynb#X31sZmlsZQ%3D%3D?line=0'>1</a>\u001b[0m plot_results(model)\n",
            "\u001b[0;31mNameError\u001b[0m: name 'model' is not defined"
          ]
        }
      ],
      "source": [
        "plot_results(model)"
      ]
    },
    {
      "cell_type": "code",
      "execution_count": null,
      "metadata": {},
      "outputs": [
        {
          "data": {
            "text/plain": [
              "[[0, '163.com'],\n",
              " [1, '1688.com'],\n",
              " [2, '360.cn'],\n",
              " [3, '3dmgame.com'],\n",
              " [4, '52pojie.cn'],\n",
              " [5, 'Other'],\n",
              " [6, 'adobe.com'],\n",
              " [7, 'aliexpress.com'],\n",
              " [8, 'alipay.com'],\n",
              " [9, 'amazon.com'],\n",
              " [10, 'amazonaws.com'],\n",
              " [11, 'apple.com'],\n",
              " [12, 'baidu.com'],\n",
              " [13, 'bilibili.com'],\n",
              " [14, 'bing.com'],\n",
              " [15, 'booking.com'],\n",
              " [16, 'canva.com'],\n",
              " [17, 'chaturbate.com'],\n",
              " [18, 'chsi.com.cn'],\n",
              " [19, 'cnblogs.com'],\n",
              " [20, 'csdn.net'],\n",
              " [21, 'deepl.com'],\n",
              " [22, 'discord.com'],\n",
              " [23, 'disneyplus.com'],\n",
              " [24, 'douban.com'],\n",
              " [25, 'douyu.com'],\n",
              " [26, 'duckduckgo.com'],\n",
              " [27, 'dzen.ru'],\n",
              " [28, 'ebay.com'],\n",
              " [29, 'etsy.com'],\n",
              " [30, 'facebook.com'],\n",
              " [31, 'fandom.com'],\n",
              " [32, 'flipkart.com'],\n",
              " [33, 'freepik.com'],\n",
              " [34, 'github.com'],\n",
              " [35, 'google.com'],\n",
              " [36, 'hao123.com'],\n",
              " [37, 'hbomax.com'],\n",
              " [38, 'huya.com'],\n",
              " [39, 'ilovepdf.com'],\n",
              " [40, 'imdb.com'],\n",
              " [41, 'imgur.com'],\n",
              " [42, 'indeed.com'],\n",
              " [43, 'instagram.com'],\n",
              " [44, 'instructure.com'],\n",
              " [45, 'iqiyi.com'],\n",
              " [46, 'jd.com'],\n",
              " [47, 'linkedin.com'],\n",
              " [48, 'live.com'],\n",
              " [49, 'mail.ru'],\n",
              " [50, 'mediafire.com'],\n",
              " [51, 'microsoft.com'],\n",
              " [52, 'msn.com'],\n",
              " [53, 'myshopify.com'],\n",
              " [54, 'naver.com'],\n",
              " [55, 'netflix.com'],\n",
              " [56, 'office.com'],\n",
              " [57, 'ok.ru'],\n",
              " [58, 'onlyfans.com'],\n",
              " [59, 'paypal.com'],\n",
              " [60, 'pinterest.com'],\n",
              " [61, 'pornhub.com'],\n",
              " [62, 'primevideo.com'],\n",
              " [63, 'qq.com'],\n",
              " [64, 'quora.com'],\n",
              " [65, 'rakuten.co.jp'],\n",
              " [66, 'reddit.com'],\n",
              " [67, 'roblox.com'],\n",
              " [68, 'sina.com.cn'],\n",
              " [69, 'so.com'],\n",
              " [70, 'sogou.com'],\n",
              " [71, 'sohu.com'],\n",
              " [72, 'soso.com'],\n",
              " [73, 'spankbang.com'],\n",
              " [74, 'spotify.com'],\n",
              " [75, 'stackoverflow.com'],\n",
              " [76, 'stripchat.com'],\n",
              " [77, 't.me'],\n",
              " [78, 'taobao.com'],\n",
              " [79, 'telegram.org'],\n",
              " [80, 'tiktok.com'],\n",
              " [81, 'tmall.com'],\n",
              " [82, 'tradingview.com'],\n",
              " [83, 'twitch.tv'],\n",
              " [84, 'twitter.com'],\n",
              " [85, 'udemy.com'],\n",
              " [86, 'vk.com'],\n",
              " [87, 'weibo.com'],\n",
              " [88, 'whatsapp.com'],\n",
              " [89, 'wikipedia.org'],\n",
              " [90, 'wordpress.com'],\n",
              " [91, 'xhamster.com'],\n",
              " [92, 'xnxx.com'],\n",
              " [93, 'xvideos.com'],\n",
              " [94, 'yahoo.com'],\n",
              " [95, 'yandex.ru'],\n",
              " [96, 'youku.com'],\n",
              " [97, 'youtube.com'],\n",
              " [98, 'zhihu.com'],\n",
              " [99, 'zoom.us']]"
            ]
          },
          "execution_count": 33,
          "metadata": {},
          "output_type": "execute_result"
        }
      ],
      "source": [
        "[[x, label_binariser.classes_[x]] for x in range(unique_y.min(), len(unique_y))]"
      ]
    }
  ],
  "metadata": {
    "accelerator": "GPU",
    "colab": {
      "collapsed_sections": [],
      "provenance": []
    },
    "gpuClass": "premium",
    "interpreter": {
      "hash": "86bc5e1ae678ca00618f5fd2590b9329e90818a147362b03ba7b4466c4d1d957"
    },
    "kernelspec": {
      "display_name": "Python 3.9.10 ('UNB_Datasets-qeLdalLc')",
      "language": "python",
      "name": "python3"
    },
    "language_info": {
      "codemirror_mode": {
        "name": "ipython",
        "version": 3
      },
      "file_extension": ".py",
      "mimetype": "text/x-python",
      "name": "python",
      "nbconvert_exporter": "python",
      "pygments_lexer": "ipython3",
      "version": "3.9.12"
    },
    "orig_nbformat": 4
  },
  "nbformat": 4,
  "nbformat_minor": 0
}
